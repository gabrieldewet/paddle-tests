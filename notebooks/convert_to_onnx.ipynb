{
 "cells": [
  {
   "cell_type": "markdown",
   "metadata": {},
   "source": [
    "# Online conversion of PaddlePaddle model to ONNX"
   ]
  },
  {
   "cell_type": "code",
   "execution_count": null,
   "metadata": {},
   "outputs": [],
   "source": [
    "from paddleocr_convert import PaddleOCRModelConvert\n",
    "\n",
    "converter = PaddleOCRModelConvert()\n",
    "save_dir = \"models\"\n",
    "url = \"https://paddleocr.bj.bcebos.com/PP-OCRv3/chinese/ch_PP-OCRv3_rec_infer.tar\"\n",
    "txt_url = \"https://raw.githubusercontent.com/PaddlePaddle/PaddleOCR/release/2.6/ppocr/utils/ppocr_keys_v1.txt\"\n",
    "\n",
    "converter(url, save_dir, txt_path=txt_url)\n",
    "\n",
    "save_dir = \"models\"\n",
    "model_path = \"models/ch_PP-OCRv3_rec_infer.tar\"\n",
    "txt_path = \"models/ppocr_keys_v1.txt\"\n",
    "converter(model_path, save_dir, txt_path=txt_path)"
   ]
  },
  {
   "cell_type": "markdown",
   "metadata": {},
   "source": [
    "# Offline conversion of PaddlePaddle model to ONNX"
   ]
  },
  {
   "cell_type": "code",
   "execution_count": null,
   "metadata": {},
   "outputs": [],
   "source": [
    "from paddleocr_convert import PaddleOCRModelConvert\n",
    "\n",
    "converter = PaddleOCRModelConvert()\n",
    "save_dir = \"models\"\n",
    "model_path = \"models/ch_PP-OCRv3_rec_infer.tar\"\n",
    "txt_path = \"models/ppocr_keys_v1.txt\"\n",
    "converter(model_path, save_dir, txt_path=txt_path)"
   ]
  }
 ],
 "metadata": {
  "kernelspec": {
   "display_name": ".venv",
   "language": "python",
   "name": "python3"
  },
  "language_info": {
   "codemirror_mode": {
    "name": "ipython",
    "version": 3
   },
   "file_extension": ".py",
   "mimetype": "text/x-python",
   "name": "python",
   "nbconvert_exporter": "python",
   "pygments_lexer": "ipython3",
   "version": "3.12.8"
  }
 },
 "nbformat": 4,
 "nbformat_minor": 2
}
